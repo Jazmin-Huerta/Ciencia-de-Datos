{
 "cells": [
  {
   "cell_type": "markdown",
   "id": "eb816e86",
   "metadata": {},
   "source": [
    "# Documentación de el Main"
   ]
  },
  {
   "cell_type": "markdown",
   "id": "28d2e466",
   "metadata": {},
   "source": [
    "## En la presente documentación se describira el codigo que se realizo en la materia de __\"Ciencia de Datos\"__ "
   ]
  },
  {
   "cell_type": "markdown",
   "id": "6e6eed3e",
   "metadata": {},
   "source": [
    "#### By: Perla Jazmín Huerta Vega "
   ]
  },
  {
   "cell_type": "markdown",
   "id": "4370edbf",
   "metadata": {},
   "source": [
    " Como primer punto se mandan llamar las librerias, y los archivos que generamos en estos se encontraran los procesos, visualizaciones y la importación de la libreria pandas. \n",
    "#### A continuación la celda de código:"
   ]
  },
  {
   "cell_type": "code",
   "execution_count": null,
   "id": "c1f0e38f",
   "metadata": {
    "vscode": {
     "languageId": "plaintext"
    }
   },
   "outputs": [],
   "source": [
    "import utils.imports as inp\n",
    "import utils.visuals as visu\n",
    "import utils.processing as proc\n",
    "import pandas as pd"
   ]
  },
  {
   "cell_type": "markdown",
   "id": "6e4bb376",
   "metadata": {},
   "source": [
    "Para después continuar con la carga del dataset llamado __Diabetes__ con el fin de optener datos y poder realizar histoogramas, tablas de correlación de la información optenida de de dicho dataset.\n",
    "#### A continuación la celda de código:"
   ]
  },
  {
   "cell_type": "code",
   "execution_count": null,
   "id": "eb7cdc0e",
   "metadata": {
    "vscode": {
     "languageId": "plaintext"
    }
   },
   "outputs": [],
   "source": [
    "data = inp.read_diabetes_dataset(\"data/diabetes.tab.txt\")\n",
    "print(\"archivo txt cargado\")\n",
    "correlation_data = proc.get_correlations(data)\n"
   ]
  },
  {
   "cell_type": "markdown",
   "id": "5ad5005f",
   "metadata": {},
   "source": [
    "Lo que realiza la siguente celda de codigo es guardar el mapa de color de las correlaciones optenidas."
   ]
  },
  {
   "cell_type": "code",
   "execution_count": null,
   "id": "f3405822",
   "metadata": {
    "vscode": {
     "languageId": "plaintext"
    }
   },
   "outputs": [],
   "source": [
    "visu.save_correlations_heatmap(data)"
   ]
  },
  {
   "cell_type": "markdown",
   "id": "8deb6088",
   "metadata": {},
   "source": [
    "Continuando con la normalización de los datos:"
   ]
  },
  {
   "cell_type": "code",
   "execution_count": null,
   "id": "039aa04f",
   "metadata": {
    "vscode": {
     "languageId": "plaintext"
    }
   },
   "outputs": [],
   "source": [
    "normalized_data = proc.normalize_diabetes_data(data)"
   ]
  },
  {
   "cell_type": "markdown",
   "id": "8a5b9265",
   "metadata": {},
   "source": [
    "la siguiente celda de codigo realiza una tabla donde solo muestra las columnas que nosotros queramor visualizar y esta se guardara en una carpeta dentro de nuestro repositorio."
   ]
  },
  {
   "cell_type": "code",
   "execution_count": null,
   "id": "1caa9d39",
   "metadata": {
    "vscode": {
     "languageId": "plaintext"
    }
   },
   "outputs": [],
   "source": [
    "training, test = proc.split_data(normalized_data, 0.7)\n",
    "training_input = pd.DataFrame(training, columns=[\"AGE\", \"BMI\", \"BP\"])\n",
    "training_output = pd.DataFrame(training, columns=[\"Y\"])\n",
    "test_input = pd.DataFrame(test, columns=[\"AGE\", \"BMI\", \"BP\"])\n",
    "test_output = pd.DataFrame(test, columns=[\"Y\"])"
   ]
  },
  {
   "cell_type": "markdown",
   "id": "27fefd77",
   "metadata": {},
   "source": [
    "después se realiza una tabla la cual se muestra en consola, primero se muestra los Coefficients, Mean Squared Error, R² Score y el Logistic model Coefficients. como ultimo muestra la tabla la cual muestra precision, recall, f1-score, support, accuracy, macro avg, weighted avg.    \n",
    " "
   ]
  },
  {
   "cell_type": "code",
   "execution_count": null,
   "id": "6014e369",
   "metadata": {
    "vscode": {
     "languageId": "plaintext"
    }
   },
   "outputs": [],
   "source": [
    "model = proc.simple_linear_regression(training_input,\n",
    "                                      training_output)\n",
    "test_predictions = proc.test_predictions(model, test_input)\n",
    "\n",
    "coefficients = proc.get_coefficients(model)\n",
    "print(\"Coefficients: \", coefficients)\n",
    "MSE = proc.get_mean_squared_error(test_output,\n",
    "                                  test_predictions)\n",
    "print(\"Mean Squared Error: \", MSE)\n",
    "R2 = proc.get_coefficient_determination(test_output,\n",
    "                                        test_predictions)\n",
    "print(\"R² Score: \", R2)"
   ]
  },
  {
   "cell_type": "markdown",
   "id": "9cfbf012",
   "metadata": {},
   "source": [
    "Para después mandar llamar los datos que se mostraran en la tabla que se visualizara en la consola, en esta se toma como variable el sexo como categoria para el logistic regrssion."
   ]
  },
  {
   "cell_type": "code",
   "execution_count": null,
   "id": "942953e0",
   "metadata": {
    "vscode": {
     "languageId": "plaintext"
    }
   },
   "outputs": [],
   "source": [
    "training, test = proc.split_data(normalized_data, 0.6)\n",
    "training_input = pd.DataFrame(training, columns=[\"AGE\", \"BMI\", \"BP\"])\n",
    "training_output = pd.DataFrame(training, columns=[\"SEX\"])\n",
    "test_input = pd.DataFrame(test, columns=[\"AGE\", \"BMI\", \"BP\"])\n",
    "test_output = pd.DataFrame(test, columns=[\"SEX\"])\n"
   ]
  },
  {
   "cell_type": "markdown",
   "id": "560ff099",
   "metadata": {},
   "source": [
    "A continuación se muestra la celda codigo donde se crea el model para poder realizar el entrenamiento donde se clasificaran los datos."
   ]
  },
  {
   "cell_type": "code",
   "execution_count": null,
   "id": "4edb76b0",
   "metadata": {
    "vscode": {
     "languageId": "plaintext"
    }
   },
   "outputs": [],
   "source": [
    "training_output = proc.values_2_categorical(training_output)\n",
    "test_output = proc.values_2_categorical(test_output)\n",
    "model = proc.logistic_regression(training_input, training_output)\n",
    "test_predictions = proc.test_predictions(model, test_input)"
   ]
  },
  {
   "cell_type": "markdown",
   "id": "43b3145c",
   "metadata": {},
   "source": [
    "En nuestra penultima celda de codigo imprime por consola el resultado del coeficientes del modelo logístico. "
   ]
  },
  {
   "cell_type": "code",
   "execution_count": null,
   "id": "cac6ecef",
   "metadata": {
    "vscode": {
     "languageId": "plaintext"
    }
   },
   "outputs": [],
   "source": [
    "coefficients = proc.get_coefficients(model)\n",
    "print(\"Logistic model Coefficients: \", coefficients)"
   ]
  },
  {
   "cell_type": "markdown",
   "id": "8fbc8543",
   "metadata": {},
   "source": [
    "Y al final se realiza una matriz de confusion en donde se muestran los falsos positivos, falsos negativos, verdadero positivo y verdadero negativo de los datos extraidos de la columna de sexo definiendo como parametros hombre como 1 y mujer como 0."
   ]
  },
  {
   "cell_type": "code",
   "execution_count": null,
   "id": "ba3246f6",
   "metadata": {
    "vscode": {
     "languageId": "plaintext"
    }
   },
   "outputs": [],
   "source": [
    "names = ['male', 'female']\n",
    "confusion_matrix = proc.get_confusion_matrix(test_output, test_predictions, names)\n",
    "visu.save_confusion_matrix(confusion_matrix)\n",
    "visu.save_roc_curve(test_output, test_predictions)\n"
   ]
  }
 ],
 "metadata": {
  "kernelspec": {
   "display_name": "Python 3 (ipykernel)",
   "language": "python",
   "name": "python3"
  },
  "language_info": {
   "codemirror_mode": {
    "name": "ipython",
    "version": 3
   },
   "file_extension": ".py",
   "mimetype": "text/x-python",
   "name": "python",
   "nbconvert_exporter": "python",
   "pygments_lexer": "ipython3",
   "version": "3.11.5"
  }
 },
 "nbformat": 4,
 "nbformat_minor": 5
}
